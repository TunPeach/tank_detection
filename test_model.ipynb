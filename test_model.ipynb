{
 "cells": [
  {
   "cell_type": "code",
   "execution_count": 6,
   "id": "3ef76bf7-3ab1-4533-bcf9-963d2f66cd1e",
   "metadata": {},
   "outputs": [],
   "source": [
    "from ultralytics import YOLO"
   ]
  },
  {
   "cell_type": "code",
   "execution_count": 7,
   "id": "2080b128-3367-4de4-bb33-b4296a91b5d9",
   "metadata": {},
   "outputs": [],
   "source": [
    "# Initialize the model\n",
    "model = YOLO(\"yolov8m_custom.pt\")"
   ]
  },
  {
   "cell_type": "code",
   "execution_count": 8,
   "id": "0dabb4d4-11c6-4b8f-a8c7-0b0a557d94d0",
   "metadata": {},
   "outputs": [
    {
     "name": "stdout",
     "output_type": "stream",
     "text": [
      "WARNING ⚠️ Environment does not support cv2.imshow() or PIL Image.show()\n",
      "\n",
      "\n",
      "image 1/1 /home/jupyternb/tanks/2.jpg: 640x640 1 tank, 133.6ms\n",
      "Speed: 1.1ms preprocess, 133.6ms inference, 0.6ms postprocess per image at shape (1, 3, 640, 640)\n",
      "Results saved to \u001b[1mruns/detect/predict2\u001b[0m\n"
     ]
    },
    {
     "data": {
      "text/plain": [
       "[ultralytics.engine.results.Results object with attributes:\n",
       " \n",
       " boxes: ultralytics.engine.results.Boxes object\n",
       " keypoints: None\n",
       " masks: None\n",
       " names: {0: 'tank'}\n",
       " obb: None\n",
       " orig_img: array([[[ 24,  46,  81],\n",
       "         [ 26,  48,  83],\n",
       "         [ 32,  54,  90],\n",
       "         ...,\n",
       "         [ 60,  75, 121],\n",
       "         [ 59,  73, 121],\n",
       "         [ 57,  71, 119]],\n",
       " \n",
       "        [[ 23,  45,  80],\n",
       "         [ 25,  47,  82],\n",
       "         [ 31,  53,  89],\n",
       "         ...,\n",
       "         [ 60,  75, 121],\n",
       "         [ 59,  73, 121],\n",
       "         [ 57,  71, 119]],\n",
       " \n",
       "        [[ 22,  44,  79],\n",
       "         [ 24,  46,  81],\n",
       "         [ 30,  52,  88],\n",
       "         ...,\n",
       "         [ 62,  75, 121],\n",
       "         [ 58,  73, 119],\n",
       "         [ 56,  71, 117]],\n",
       " \n",
       "        ...,\n",
       " \n",
       "        [[ 78, 102, 156],\n",
       "         [ 79, 103, 157],\n",
       "         [ 81, 105, 159],\n",
       "         ...,\n",
       "         [108, 129, 180],\n",
       "         [112, 133, 184],\n",
       "         [112, 133, 184]],\n",
       " \n",
       "        [[ 79, 103, 157],\n",
       "         [ 80, 104, 158],\n",
       "         [ 81, 105, 159],\n",
       "         ...,\n",
       "         [109, 130, 181],\n",
       "         [113, 134, 185],\n",
       "         [115, 136, 187]],\n",
       " \n",
       "        [[ 80, 104, 158],\n",
       "         [ 81, 105, 159],\n",
       "         [ 82, 106, 160],\n",
       "         ...,\n",
       "         [108, 129, 180],\n",
       "         [112, 133, 184],\n",
       "         [114, 135, 186]]], dtype=uint8)\n",
       " orig_shape: (640, 640)\n",
       " path: '/home/jupyternb/tanks/2.jpg'\n",
       " probs: None\n",
       " save_dir: 'runs/detect/predict2'\n",
       " speed: {'preprocess': 1.089334487915039, 'inference': 133.561372756958, 'postprocess': 0.5724430084228516}]"
      ]
     },
     "execution_count": 8,
     "metadata": {},
     "output_type": "execute_result"
    }
   ],
   "source": [
    "# Run prediction\n",
    "model.predict(\n",
    "    source=\"2.jpg\",\n",
    "    show=True,\n",
    "    save=True,\n",
    "    show_labels=True,\n",
    "    show_conf=True,\n",
    "    conf=0.5,\n",
    "    save_txt=False,\n",
    "    save_crop=False,\n",
    "    line_width=2,\n",
    ")"
   ]
  },
  {
   "cell_type": "code",
   "execution_count": null,
   "id": "6a07ad38-1d90-4e0f-ad6e-505d7583cb1e",
   "metadata": {},
   "outputs": [],
   "source": []
  }
 ],
 "metadata": {
  "kernelspec": {
   "display_name": "yolo",
   "language": "python",
   "name": "yolo"
  },
  "language_info": {
   "codemirror_mode": {
    "name": "ipython",
    "version": 3
   },
   "file_extension": ".py",
   "mimetype": "text/x-python",
   "name": "python",
   "nbconvert_exporter": "python",
   "pygments_lexer": "ipython3",
   "version": "3.12.2"
  }
 },
 "nbformat": 4,
 "nbformat_minor": 5
}
